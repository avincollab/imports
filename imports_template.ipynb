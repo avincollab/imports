{
  "nbformat": 4,
  "nbformat_minor": 0,
  "metadata": {
    "colab": {
      "name": "imports_template.ipynb",
      "provenance": [],
      "collapsed_sections": [],
      "authorship_tag": "ABX9TyMSorRvJQvAkxzilho5w4Rb",
      "include_colab_link": true
    },
    "kernelspec": {
      "name": "python3",
      "display_name": "Python 3"
    }
  },
  "cells": [
    {
      "cell_type": "markdown",
      "metadata": {
        "id": "view-in-github",
        "colab_type": "text"
      },
      "source": [
        "<a href=\"https://colab.research.google.com/github/avincollab/imports/blob/master/imports_template.ipynb\" target=\"_parent\"><img src=\"https://colab.research.google.com/assets/colab-badge.svg\" alt=\"Open In Colab\"/></a>"
      ]
    },
    {
      "cell_type": "code",
      "metadata": {
        "id": "MLT6oCVxxrv1",
        "colab_type": "code",
        "outputId": "bd27d5d1-ceb2-4f90-8323-7b49eb7c7e48",
        "colab": {
          "base_uri": "https://localhost:8080/",
          "height": 55
        }
      },
      "source": [
        "import pandas as pd\n",
        "pd.options.display.float_format = '{:.2f}'.format\n",
        "\n",
        "\n",
        "import numpy as np\n",
        "from scipy import stats\n",
        "\n",
        "from random import choice\n",
        "from random import choices\n",
        "from random import sample\n",
        "\n",
        "\n",
        "import matplotlib.pyplot as plt\n",
        "fig, axs = plt.subplots(1,2)\n",
        "plt.figure(figsize=(30,50))\n",
        "fig.set_size_inches(10,8)\n",
        "\n",
        "from google.colab import drive\n",
        "drive.mount('/content/gdrive')\n",
        "import seaborn as sns\n",
        "#### data\n",
        "wine=pd.read_csv('gdrive/My Drive/data/winequality_red.csv')\n",
        "card=pd.read_csv('gdrive/My Drive/data/creditcard.csv')\n",
        "####\n",
        "wy=wine['quality']\n",
        "wx=wine.drop(labels='quality',axis=1)\n",
        "cy=card['Class']\n",
        "cx=card.drop(labels='Class',axis=1)\n",
        "####"
      ],
      "execution_count": 0,
      "outputs": [
        {
          "output_type": "stream",
          "text": [
            "Drive already mounted at /content/gdrive; to attempt to forcibly remount, call drive.mount(\"/content/gdrive\", force_remount=True).\n"
          ],
          "name": "stdout"
        }
      ]
    },
    {
      "cell_type": "code",
      "metadata": {
        "id": "rPlsLk2rzKPb",
        "colab_type": "code",
        "colab": {}
      },
      "source": [
        ""
      ],
      "execution_count": 0,
      "outputs": []
    }
  ]
}